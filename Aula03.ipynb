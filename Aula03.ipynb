{
  "nbformat": 4,
  "nbformat_minor": 0,
  "metadata": {
    "colab": {
      "name": "Aula03.ipynb",
      "provenance": [],
      "collapsed_sections": [],
      "authorship_tag": "ABX9TyOiUUoaBuW9PWc20tZfcYA5",
      "include_colab_link": true
    },
    "kernelspec": {
      "name": "python3",
      "display_name": "Python 3"
    },
    "language_info": {
      "name": "python"
    }
  },
  "cells": [
    {
      "cell_type": "markdown",
      "metadata": {
        "id": "view-in-github",
        "colab_type": "text"
      },
      "source": [
        "<a href=\"https://colab.research.google.com/github/alissonforneck/python/blob/master/Aula03.ipynb\" target=\"_parent\"><img src=\"https://colab.research.google.com/assets/colab-badge.svg\" alt=\"Open In Colab\"/></a>"
      ]
    },
    {
      "cell_type": "markdown",
      "source": [
        "**Condicional simples**\n",
        "\n",
        "---\n",
        "\n"
      ],
      "metadata": {
        "id": "5wXg17aqXkSs"
      }
    },
    {
      "cell_type": "markdown",
      "source": [
        "Estou aprendendo sobre if"
      ],
      "metadata": {
        "id": "IU2hya8AV1M4"
      }
    },
    {
      "cell_type": "code",
      "metadata": {
        "id": "GWHS6kVbwR-x"
      },
      "source": [
        "#if condicao:\n",
        "  #instruções"
      ],
      "execution_count": null,
      "outputs": []
    },
    {
      "cell_type": "markdown",
      "source": [
        "Estou demostrando acima como se trabalha com if no Python, aqui não temos o fim do se nem () e {}, mas o : é obrigatório."
      ],
      "metadata": {
        "id": "yvL85EIFWHMY"
      }
    },
    {
      "cell_type": "markdown",
      "source": [
        "Ex: escreva um programa que leia dois valores e compare se o primeiro é maior que o segundo."
      ],
      "metadata": {
        "id": "VYgOQjQMWTsk"
      }
    },
    {
      "cell_type": "code",
      "source": [
        "x = int(input('Digite um valor para X: '))\n",
        "y = int(input('Digite um valor para Y: '))\n",
        "if x > y:\n",
        "  print('O primeiro valor é maior que o segundo.')"
      ],
      "metadata": {
        "colab": {
          "base_uri": "https://localhost:8080/"
        },
        "id": "g30jM2TWWZ11",
        "outputId": "289d62bd-9c25-4041-ce69-921afb9a2201"
      },
      "execution_count": null,
      "outputs": [
        {
          "output_type": "stream",
          "name": "stdout",
          "text": [
            "Digite um valor para X: 10\n",
            "Digite um valor para Y: 4\n",
            "O primeiro valor é maior que o segundo.\n"
          ]
        }
      ]
    },
    {
      "cell_type": "markdown",
      "source": [
        "Condicional Composta\n",
        "\n",
        "---\n",
        "\n"
      ],
      "metadata": {
        "id": "8eRWZ0OpXwSF"
      }
    },
    {
      "cell_type": "markdown",
      "source": [
        "Exemplo abaixo com Else"
      ],
      "metadata": {
        "id": "x6RMXORsX_H9"
      }
    },
    {
      "cell_type": "code",
      "source": [
        "x = int(input('Digite um valor para X: '))\n",
        "y = int(input('Digite um valor para Y: '))\n",
        "if x > y:\n",
        "  print('O valor X é maior que o Y')\n",
        "else: \n",
        "  print('O valor Y é maior que o Y')"
      ],
      "metadata": {
        "colab": {
          "base_uri": "https://localhost:8080/"
        },
        "id": "p0ybLJnkX9lR",
        "outputId": "e6ac0c8f-14d9-4fac-f467-239ee7f21a64"
      },
      "execution_count": null,
      "outputs": [
        {
          "output_type": "stream",
          "name": "stdout",
          "text": [
            "Digite um valor para X: 4\n",
            "Digite um valor para Y: 8\n",
            "O valor Y é maior que o Y\n"
          ]
        }
      ]
    },
    {
      "cell_type": "markdown",
      "source": [
        "Par ou impar:"
      ],
      "metadata": {
        "id": "j-jlrbK0Y_0W"
      }
    },
    {
      "cell_type": "code",
      "source": [
        "x = int(input('Digite um numero '))\n",
        "if (x % 2 == 0):\n",
        "  print('O numero é par!')\n",
        "else:\n",
        "  print('O numero é impar!')"
      ],
      "metadata": {
        "colab": {
          "base_uri": "https://localhost:8080/"
        },
        "id": "x9Xb3HhXY_Ev",
        "outputId": "d60ffe00-2fe0-445b-a711-68a5db9b8dcb"
      },
      "execution_count": null,
      "outputs": [
        {
          "output_type": "stream",
          "name": "stdout",
          "text": [
            "Digite um numero 5\n",
            "O numero é impar!\n"
          ]
        }
      ]
    },
    {
      "cell_type": "markdown",
      "source": [
        "**3 -  Expressões lógicas e álgebra booleana.**\n",
        "\n",
        "---\n",
        "\n"
      ],
      "metadata": {
        "id": "w73qU2p9aFnZ"
      }
    },
    {
      "cell_type": "markdown",
      "source": [
        "Operadores lógicos\n",
        "\n",
        "*   not = não\n",
        "*   and = e\n",
        "*   or = ou\n",
        "\n",
        "\n",
        "\n"
      ],
      "metadata": {
        "id": "6D-Q2DWMamZU"
      }
    },
    {
      "cell_type": "code",
      "source": [
        "#ex de not\n",
        "x = True\n",
        "y = False\n",
        "print(not x)\n",
        "print(not y)"
      ],
      "metadata": {
        "colab": {
          "base_uri": "https://localhost:8080/"
        },
        "id": "-x_U2o9_b8Y7",
        "outputId": "b4cfa7e0-e13a-4f8b-fdf6-333f091a2dc5"
      },
      "execution_count": null,
      "outputs": [
        {
          "output_type": "stream",
          "name": "stdout",
          "text": [
            "False\n",
            "True\n"
          ]
        }
      ]
    },
    {
      "cell_type": "code",
      "source": [
        "#ex de and\n",
        "x = True\n",
        "y = False\n",
        "print (x and y)"
      ],
      "metadata": {
        "colab": {
          "base_uri": "https://localhost:8080/"
        },
        "id": "WDn5usT-cJDq",
        "outputId": "d689b384-32a2-4984-d6b4-f3b86587e3e1"
      },
      "execution_count": null,
      "outputs": [
        {
          "output_type": "stream",
          "name": "stdout",
          "text": [
            "False\n"
          ]
        }
      ]
    },
    {
      "cell_type": "code",
      "source": [
        "#ex de or\n",
        "x = True\n",
        "y = False\n",
        "print(x or y)"
      ],
      "metadata": {
        "colab": {
          "base_uri": "https://localhost:8080/"
        },
        "id": "A5u_7KaBcWp9",
        "outputId": "20c2b882-8080-45ef-91e4-5929df86c22a"
      },
      "execution_count": null,
      "outputs": [
        {
          "output_type": "stream",
          "name": "stdout",
          "text": [
            "True\n"
          ]
        }
      ]
    },
    {
      "cell_type": "markdown",
      "source": [
        "Precedencia ou ordem\n",
        "\n",
        "1.   Parenteses\n",
        "2.   Potencia ou raiz\n",
        "3.   multiplicação, divisão ou modulo\n",
        "4.   adição e subtração\n",
        "5.   operadores relacionais, que seria igual, diferente ou maior e menor\n",
        "6.   not\n",
        "7.   and\n",
        "8.   or\n",
        "9.   atribuição\n",
        "\n",
        "\n",
        "2.   Item da lista\n",
        "\n",
        "\n",
        "\n",
        "\n",
        "\n"
      ],
      "metadata": {
        "id": "NiwJBjNmci1a"
      }
    },
    {
      "cell_type": "markdown",
      "source": [
        "Exemplos\n",
        "\n",
        "---\n",
        "\n"
      ],
      "metadata": {
        "id": "kUWQeah9diX7"
      }
    },
    {
      "cell_type": "code",
      "source": [
        "x = 10\n",
        "y = 1\n",
        "res = not x > y\n",
        "print(res) "
      ],
      "metadata": {
        "colab": {
          "base_uri": "https://localhost:8080/"
        },
        "id": "fednjqUPdkYC",
        "outputId": "08e0ee97-21f4-4e27-e65f-e2e9c218793f"
      },
      "execution_count": null,
      "outputs": [
        {
          "output_type": "stream",
          "name": "stdout",
          "text": [
            "False\n"
          ]
        }
      ]
    },
    {
      "cell_type": "code",
      "source": [
        "x = 10\n",
        "y = 1\n",
        "z = 5.5\n",
        "res = x > y and z == y\n",
        "print(res)"
      ],
      "metadata": {
        "colab": {
          "base_uri": "https://localhost:8080/"
        },
        "id": "UvutGilOdvz6",
        "outputId": "0eb8f859-ecb2-44eb-dc31-76f918b9d084"
      },
      "execution_count": null,
      "outputs": [
        {
          "output_type": "stream",
          "name": "stdout",
          "text": [
            "False\n"
          ]
        }
      ]
    },
    {
      "cell_type": "markdown",
      "source": [
        "Exercicio: receba 3 notas e veja se todas são maiore que 7 para um aluno poder passar de ano"
      ],
      "metadata": {
        "id": "uk6ydfv9eoeW"
      }
    },
    {
      "cell_type": "code",
      "source": [
        "materia1 = float(input('Que nota você tirou na primeira materia? '))\n",
        "materia2 = float(input('Que nota você tirou na segunda materia? '))\n",
        "materia3 = float(input('Que nota você tirou na terceira materia? '))\n",
        "if (materia1 >= 7 and materia2 >= 7 and materia3 >= 7):\n",
        "  print('Você esta APROVADO!')\n",
        "else:\n",
        "  print('Voce esta REPROVADO!')"
      ],
      "metadata": {
        "colab": {
          "base_uri": "https://localhost:8080/"
        },
        "id": "yUBAZ55Te1Yh",
        "outputId": "9926643a-dbf3-4d0a-b32e-5248f7147728"
      },
      "execution_count": null,
      "outputs": [
        {
          "output_type": "stream",
          "name": "stdout",
          "text": [
            "Que nota você tirou na primeira materia? 9\n",
            "Que nota você tirou na segunda materia? 9\n",
            "Que nota você tirou na terceira materia? 9\n",
            "Você esta APROVADO!\n"
          ]
        }
      ]
    },
    {
      "cell_type": "markdown",
      "source": [
        "4 - Condicionais aninhadas\n",
        "\n",
        "---\n",
        "\n"
      ],
      "metadata": {
        "id": "ODsg_JC3gqhv"
      }
    },
    {
      "cell_type": "markdown",
      "source": [
        "Exercicio: receba 3 frutas, e calcule o valor delas, sendo que maça custa 2,30, laranja custa 3,60 e banana custa 1,85"
      ],
      "metadata": {
        "id": "fKiRz50DguAk"
      }
    },
    {
      "cell_type": "code",
      "source": [
        "fruta = input('Qual fruta você deseja? ')\n",
        "quantidade = float(input('E quantoas {} você comprou? '.format(fruta)))\n",
        "if (fruta == 'maça' or fruta == 'maçã'):\n",
        "  preco = quantidade * 2.30\n",
        "elif (fruta == 'laranja'):\n",
        "  preco = quantidade * 3.60\n",
        "elif (fruta == 'banana'):\n",
        "  preco = quantidade * 1.85\n",
        "print('Voce gastou {} comprando {} de {}'.format(preco,quantidade,fruta))"
      ],
      "metadata": {
        "colab": {
          "base_uri": "https://localhost:8080/"
        },
        "id": "1afQR356g-g-",
        "outputId": "8c8dbda4-896a-4afe-e4ec-c798ebadbd71"
      },
      "execution_count": null,
      "outputs": [
        {
          "output_type": "stream",
          "name": "stdout",
          "text": [
            "Qual fruta você deseja? maça\n",
            "E quantoas maça você comprou? 5\n",
            "Voce gastou 11.5 comprando 5.0 de maça\n"
          ]
        }
      ]
    },
    {
      "cell_type": "markdown",
      "source": [
        "Esta forma acima foi a forma que eu resolvi o exercicio, porem eu não utilizei condicionais aninhadas, agora vou fazer igual o professor utilizando condicionais aninhadas."
      ],
      "metadata": {
        "id": "lou7hAQxjok9"
      }
    },
    {
      "cell_type": "code",
      "source": [
        "print('Escolha o produto que você quer comprar.')\n",
        "print('1 - Maça')\n",
        "print('2 - Laranja')\n",
        "print('3 - Banana')\n",
        "produto = int(input('Qual sua escolha '))\n",
        "qtd = int(input('Quantas unidades?'))\n",
        "if (produto == 1):\n",
        "  pagar = qtd * 2.3\n",
        "  print('Voce comprou {} maças. Total a pagar: {}'.format(qtd,pagar))\n",
        "else:\n",
        "    if (produto == 2):\n",
        "      pagar = qtd * 3.6\n",
        "      print('Voce comprou {} laranjas. Total a pagar {}.'.format(qtd,pagar))\n",
        "    else:\n",
        "        if (produto == 3):\n",
        "          pagar = qtd * 1.85\n",
        "          print('Voce comprou {} bananas. Total a pagar {}.'.format(qtd,pagar))\n",
        "        else:\n",
        "            print('Produto inexistente!')"
      ],
      "metadata": {
        "colab": {
          "base_uri": "https://localhost:8080/"
        },
        "id": "LfzlKKk4jzTk",
        "outputId": "86ac9d5a-c4df-4b51-de63-7fcbc3bcb471"
      },
      "execution_count": null,
      "outputs": [
        {
          "output_type": "stream",
          "name": "stdout",
          "text": [
            "Escolha o produto que você quer comprar.\n",
            "1 - Maça\n",
            "2 - Laranja\n",
            "3 - Banana\n",
            "Qual sua escolha 2\n",
            "Quantas unidades?4\n",
            "Voce comprou 4 laranjas. Total a pagar 14.4.\n"
          ]
        }
      ]
    },
    {
      "cell_type": "markdown",
      "source": [
        "5 - Condicionais compostas (elif)"
      ],
      "metadata": {
        "id": "pxtL0tUnm2VI"
      }
    },
    {
      "cell_type": "markdown",
      "source": [
        "exemplo"
      ],
      "metadata": {
        "id": "nGUZwnMYpqTc"
      }
    },
    {
      "cell_type": "code",
      "source": [
        "print('Escolha o produto que você quer comprar.')\n",
        "print('1 - Maça')\n",
        "print('2 - Laranja')\n",
        "print('3 - Banana')\n",
        "fruta = int(input('Qual fruta você quer comprar?'))\n",
        "quantidade = float(input('E quantas unidades comprou? '))\n",
        "if (fruta == 1):\n",
        "  fruta = 'maçã'\n",
        "  preco = quantidade * 2.30\n",
        "elif (fruta == 2):\n",
        "  fruta = 'laranja'\n",
        "  preco = quantidade * 3.60\n",
        "elif (fruta == 3):\n",
        "  fruta = 'banana'\n",
        "  preco = quantidade * 1.85\n",
        "else:\n",
        "  print('Produto inexistente!')\n",
        "print('Voce comprou {} {}. Total a pagar {}.'.format(quantidade,fruta,preco))"
      ],
      "metadata": {
        "colab": {
          "base_uri": "https://localhost:8080/"
        },
        "id": "7oBgxpDknKpF",
        "outputId": "cb8770ce-a690-433b-ce38-3454054cf308"
      },
      "execution_count": null,
      "outputs": [
        {
          "output_type": "stream",
          "name": "stdout",
          "text": [
            "Escolha o produto que você quer comprar.\n",
            "1 - Maça\n",
            "2 - Laranja\n",
            "3 - Banana\n",
            "Qual fruta você quer comprar?3\n",
            "E quantas unidades comprou? 7\n",
            "Voce comprou 7.0 banana. Total a pagar 12.950000000000001.2f.\n"
          ]
        }
      ]
    },
    {
      "cell_type": "markdown",
      "source": [
        "Exercicio"
      ],
      "metadata": {
        "id": "wluUsXy2popM"
      }
    },
    {
      "cell_type": "code",
      "source": [
        "nome = input('Digite seu nome: ')\n",
        "if (nome == 'Vinicius'):\n",
        "  print('Que legal seu nome é {}'.format(nome))\n",
        "else:\n",
        "  idade = int(input('Digite sua idade: '))\n",
        "  if (idade < 18):\n",
        "    print('Você é menor de idade.')\n",
        "  elif (idade > 100):\n",
        "    print('Tu é velho demais pra existir')\n",
        "  else:\n",
        "    print('Tu é show')"
      ],
      "metadata": {
        "colab": {
          "base_uri": "https://localhost:8080/"
        },
        "id": "Kyso5-mApttj",
        "outputId": "92294a3d-ca3d-4959-b5bb-22452d5ad248"
      },
      "execution_count": null,
      "outputs": [
        {
          "name": "stdout",
          "output_type": "stream",
          "text": [
            "Digite seu nome: alisson\n",
            "Digite sua idade: 40\n"
          ]
        }
      ]
    }
  ]
}