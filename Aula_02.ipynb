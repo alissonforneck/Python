{
  "nbformat": 4,
  "nbformat_minor": 0,
  "metadata": {
    "colab": {
      "name": "Aula 02.ipynb",
      "provenance": [],
      "authorship_tag": "ABX9TyMtjP4s/ML8ir6hEAFIV6Cx",
      "include_colab_link": true
    },
    "kernelspec": {
      "name": "python3",
      "display_name": "Python 3"
    },
    "language_info": {
      "name": "python"
    }
  },
  "cells": [
    {
      "cell_type": "markdown",
      "metadata": {
        "id": "view-in-github",
        "colab_type": "text"
      },
      "source": [
        "<a href=\"https://colab.research.google.com/github/alissonforneck/python/blob/master/Aula_02.ipynb\" target=\"_parent\"><img src=\"https://colab.research.google.com/assets/colab-badge.svg\" alt=\"Open In Colab\"/></a>"
      ]
    },
    {
      "cell_type": "code",
      "metadata": {
        "colab": {
          "base_uri": "https://localhost:8080/"
        },
        "id": "7g9O-qMKr3lW",
        "outputId": "c0c4f757-d7fd-4edc-b9b0-0f3a0d5d8347"
      },
      "source": [
        "print('Hello Word!')"
      ],
      "execution_count": null,
      "outputs": [
        {
          "output_type": "stream",
          "text": [
            "Hello Word!\n"
          ],
          "name": "stdout"
        }
      ]
    },
    {
      "cell_type": "markdown",
      "metadata": {
        "id": "9iJzJLNj2Ya8"
      },
      "source": [
        "Formas de demonstrar informações pro usuario"
      ]
    },
    {
      "cell_type": "code",
      "metadata": {
        "colab": {
          "base_uri": "https://localhost:8080/"
        },
        "id": "Gn3EQOYy2RkW",
        "outputId": "c3b946b6-15ee-435a-e526-224011e988a3"
      },
      "source": [
        "print('Testando print')"
      ],
      "execution_count": null,
      "outputs": [
        {
          "output_type": "stream",
          "text": [
            "Testando print\n"
          ],
          "name": "stdout"
        }
      ]
    },
    {
      "cell_type": "code",
      "metadata": {
        "id": "h6TT2j5-so7y",
        "colab": {
          "base_uri": "https://localhost:8080/"
        },
        "outputId": "73145c96-dab6-41ec-9865-1ecdf3501904"
      },
      "source": [
        "print('Ola,','mundo!')"
      ],
      "execution_count": null,
      "outputs": [
        {
          "output_type": "stream",
          "text": [
            "Ola, mundo!\n"
          ],
          "name": "stdout"
        }
      ]
    },
    {
      "cell_type": "code",
      "metadata": {
        "id": "QKrEeOgfsp9E",
        "colab": {
          "base_uri": "https://localhost:8080/"
        },
        "outputId": "73471a2a-2b3b-4fc1-cc7e-493f0716ca3e"
      },
      "source": [
        "print('Ola,'+' mundo!')"
      ],
      "execution_count": null,
      "outputs": [
        {
          "output_type": "stream",
          "text": [
            "Ola, mundo!\n"
          ],
          "name": "stdout"
        }
      ]
    },
    {
      "cell_type": "markdown",
      "metadata": {
        "id": "mx3OuBsmspYC"
      },
      "source": [
        "Formas de declarar variaveis e mostrar elas"
      ]
    },
    {
      "cell_type": "code",
      "metadata": {
        "colab": {
          "base_uri": "https://localhost:8080/"
        },
        "id": "dIlduDVZnEpA",
        "outputId": "999b63be-3c02-4542-8a87-24ac8fb323b7"
      },
      "source": [
        "nota = 8.5\n",
        "disciplina = 'Lógica de Programação e Algoritmos'\n",
        "print(nota)\n",
        "print(disciplina)"
      ],
      "execution_count": null,
      "outputs": [
        {
          "output_type": "stream",
          "text": [
            "8.5\n",
            "Lógica de Programação e Algoritmos\n"
          ],
          "name": "stdout"
        }
      ]
    },
    {
      "cell_type": "code",
      "metadata": {
        "colab": {
          "base_uri": "https://localhost:8080/"
        },
        "id": "DCWxuyajnEzw",
        "outputId": "1aa5af5a-d469-4fe1-81dd-cb413222116c"
      },
      "source": [
        "print('Disciplina: ',disciplina,'. Nota:', nota)"
      ],
      "execution_count": null,
      "outputs": [
        {
          "output_type": "stream",
          "text": [
            "Disciplina:  Lógica de Programação e Algoritmos . Nota: 8.5\n"
          ],
          "name": "stdout"
        }
      ]
    },
    {
      "cell_type": "code",
      "metadata": {
        "id": "Qca_WxiBnE7o"
      },
      "source": [
        "a = 1 #aqui o a vai receber 1\n",
        "b = 5 #aqui o b vai receber 5"
      ],
      "execution_count": null,
      "outputs": []
    },
    {
      "cell_type": "code",
      "metadata": {
        "colab": {
          "base_uri": "https://localhost:8080/"
        },
        "id": "AvYrdA5Bp918",
        "outputId": "6251c949-84c8-4f7d-e972-518a0a006964"
      },
      "source": [
        "resposta = a == b\n",
        "print(resposta)"
      ],
      "execution_count": null,
      "outputs": [
        {
          "output_type": "stream",
          "text": [
            "False\n"
          ],
          "name": "stdout"
        }
      ]
    },
    {
      "cell_type": "code",
      "metadata": {
        "colab": {
          "base_uri": "https://localhost:8080/"
        },
        "id": "3gmig1OZp8Xe",
        "outputId": "731ca4e1-c11d-46a5-d315-6666f9966ef4"
      },
      "source": [
        "resposta = a != b\n",
        "print(resposta)"
      ],
      "execution_count": null,
      "outputs": [
        {
          "output_type": "stream",
          "text": [
            "True\n"
          ],
          "name": "stdout"
        }
      ]
    },
    {
      "cell_type": "markdown",
      "metadata": {
        "id": "lFLevNg_q8jv"
      },
      "source": [
        "Variável string"
      ]
    },
    {
      "cell_type": "code",
      "metadata": {
        "colab": {
          "base_uri": "https://localhost:8080/"
        },
        "id": "ydFjjSC8rCz2",
        "outputId": "d8184ec1-96f3-4144-ecdb-6828b0c030db"
      },
      "source": [
        "frase = 'Olá, mundo!'\n",
        "print(frase)"
      ],
      "execution_count": null,
      "outputs": [
        {
          "output_type": "stream",
          "text": [
            "Olá, mundo!\n"
          ],
          "name": "stdout"
        }
      ]
    },
    {
      "cell_type": "markdown",
      "metadata": {
        "id": "yfUfCJCG1Rgh"
      },
      "source": [
        "Acessando o indice:"
      ]
    },
    {
      "cell_type": "code",
      "metadata": {
        "colab": {
          "base_uri": "https://localhost:8080/"
        },
        "id": "x9ufE2M-1T9p",
        "outputId": "281d1dba-62dd-4798-9ab3-cec2f8fc48eb"
      },
      "source": [
        "print(frase[0])"
      ],
      "execution_count": null,
      "outputs": [
        {
          "output_type": "stream",
          "text": [
            "O\n"
          ],
          "name": "stdout"
        }
      ]
    },
    {
      "cell_type": "code",
      "metadata": {
        "colab": {
          "base_uri": "https://localhost:8080/"
        },
        "id": "LxGJEFRu11Aw",
        "outputId": "380cd111-752e-473c-ada8-47d64c3509f5"
      },
      "source": [
        "print(frase[2])"
      ],
      "execution_count": null,
      "outputs": [
        {
          "output_type": "stream",
          "text": [
            "á\n"
          ],
          "name": "stdout"
        }
      ]
    },
    {
      "cell_type": "markdown",
      "metadata": {
        "id": "8IfFvH692YHR"
      },
      "source": [
        "4. MANIPULAÇÕES AVANÇADAS COM STRINGS"
      ]
    },
    {
      "cell_type": "markdown",
      "metadata": {
        "id": "1QCMwW782o6Q"
      },
      "source": [
        "concatenação"
      ]
    },
    {
      "cell_type": "code",
      "metadata": {
        "colab": {
          "base_uri": "https://localhost:8080/"
        },
        "id": "6V9XhQFJ2r2S",
        "outputId": "2de41923-f392-4c28-c4e3-a185fd8b2547"
      },
      "source": [
        "s1 = 'Lógica de Programação'\n",
        "s1 = s1 + ' e Algoritmos'\n",
        "print(s1)"
      ],
      "execution_count": null,
      "outputs": [
        {
          "output_type": "stream",
          "text": [
            "Lógica de Programação e Algoritmos\n"
          ],
          "name": "stdout"
        }
      ]
    },
    {
      "cell_type": "markdown",
      "metadata": {
        "id": "C4Sn8Qpr3IBB"
      },
      "source": [
        "Repetindo strings na concatenação"
      ]
    },
    {
      "cell_type": "code",
      "metadata": {
        "colab": {
          "base_uri": "https://localhost:8080/"
        },
        "id": "WIJIoBFv3OCJ",
        "outputId": "a17c1303-82ca-499a-8ff9-eb6eead88692"
      },
      "source": [
        "s1 = 'A' + '-'*10+'B'\n",
        "print(s1)"
      ],
      "execution_count": null,
      "outputs": [
        {
          "output_type": "stream",
          "text": [
            "A----------B\n"
          ],
          "name": "stdout"
        }
      ]
    },
    {
      "cell_type": "code",
      "metadata": {
        "colab": {
          "base_uri": "https://localhost:8080/"
        },
        "id": "idxyNNiY3WqY",
        "outputId": "a8c00f97-cc05-438f-d6a6-93470e9ecdb5"
      },
      "source": [
        "teste = 'Sou foda |'*10\n",
        "print(teste)"
      ],
      "execution_count": null,
      "outputs": [
        {
          "output_type": "stream",
          "text": [
            "Sou foda |Sou foda |Sou foda |Sou foda |Sou foda |Sou foda |Sou foda |Sou foda |Sou foda |Sou foda |\n"
          ],
          "name": "stdout"
        }
      ]
    },
    {
      "cell_type": "markdown",
      "metadata": {
        "id": "aMNhMMx13o0t"
      },
      "source": [
        "composição"
      ]
    },
    {
      "cell_type": "code",
      "metadata": {
        "colab": {
          "base_uri": "https://localhost:8080/"
        },
        "id": "55giaL5r3rQV",
        "outputId": "91d1bc88-687d-4564-bc22-b25e6558a0de"
      },
      "source": [
        "nota = 8.5\n",
        "s1 = 'Você tirou %f na disciplina de Algoritmos' %nota\n",
        "print(s1)"
      ],
      "execution_count": null,
      "outputs": [
        {
          "output_type": "stream",
          "text": [
            "Você tirou 8.500000 na disciplina de Algoritmos\n"
          ],
          "name": "stdout"
        }
      ]
    },
    {
      "cell_type": "markdown",
      "metadata": {
        "id": "wQDOs8ff4lBw"
      },
      "source": [
        "Limitando as casas decimais"
      ]
    },
    {
      "cell_type": "code",
      "metadata": {
        "colab": {
          "base_uri": "https://localhost:8080/"
        },
        "id": "wWOWIoGU4nQJ",
        "outputId": "40f9f3d8-caf3-4f1c-a125-6d524d8877f6"
      },
      "source": [
        "nota = 8.5\n",
        "s1 = 'Você tirou %.2f na disciplina de Algoritmos' %nota\n",
        "print(s1)"
      ],
      "execution_count": null,
      "outputs": [
        {
          "output_type": "stream",
          "text": [
            "Você tirou 8.50 na disciplina de Algoritmos\n"
          ],
          "name": "stdout"
        }
      ]
    },
    {
      "cell_type": "markdown",
      "metadata": {
        "id": "PR7x9ORhoRAq"
      },
      "source": [
        "Várias variaveis:"
      ]
    },
    {
      "cell_type": "code",
      "metadata": {
        "colab": {
          "base_uri": "https://localhost:8080/"
        },
        "id": "koKXk1MXoTpJ",
        "outputId": "f7937385-ef6e-4353-d47f-1131946a2f8d"
      },
      "source": [
        "nota = 8.5\n",
        "disciplina = 'Algoritmos'\n",
        "s1=  'Você tirou %.2f na disciplina de %s' % (nota, disciplina)\n",
        "print(s1)"
      ],
      "execution_count": null,
      "outputs": [
        {
          "output_type": "stream",
          "text": [
            "Você tirou 8.50 na disciplina de Algoritmos\n"
          ],
          "name": "stdout"
        }
      ]
    },
    {
      "cell_type": "markdown",
      "metadata": {
        "id": "c7f06qL-pSni"
      },
      "source": [
        "Composição mais moderna:"
      ]
    },
    {
      "cell_type": "code",
      "metadata": {
        "colab": {
          "base_uri": "https://localhost:8080/"
        },
        "id": "sJzeHLLHpSSR",
        "outputId": "616aecd4-3fd2-44f0-b3f0-84b0ec694e87"
      },
      "source": [
        "nota = 8.5\n",
        "disciplina = 'Algoritmos'\n",
        "s1 = 'Você tirou {} na disciplina de {}'.format(nota,disciplina)\n",
        "print(s1)"
      ],
      "execution_count": null,
      "outputs": [
        {
          "output_type": "stream",
          "text": [
            "Você tirou 8.5 na disciplina de Algoritmos\n"
          ],
          "name": "stdout"
        }
      ]
    },
    {
      "cell_type": "markdown",
      "metadata": {
        "id": "cNADEjG9puk7"
      },
      "source": [
        "Fatiamento"
      ]
    },
    {
      "cell_type": "code",
      "metadata": {
        "colab": {
          "base_uri": "https://localhost:8080/"
        },
        "id": "p0zFQOpcpzCa",
        "outputId": "35b7998f-d9d5-4598-9863-969481629882"
      },
      "source": [
        "s1 = 'Lógica de programação e Algoritmos'\n",
        "print(s1[0:6])"
      ],
      "execution_count": null,
      "outputs": [
        {
          "output_type": "stream",
          "text": [
            "Lógica\n"
          ],
          "name": "stdout"
        }
      ]
    },
    {
      "cell_type": "code",
      "metadata": {
        "colab": {
          "base_uri": "https://localhost:8080/"
        },
        "id": "3YFKV7zIp-Ca",
        "outputId": "b04290df-7e5e-44b1-8bfe-ac991341d534"
      },
      "source": [
        "s1 = 'Lógica de programação e Algoritmos'\n",
        "print(s1[10:21])"
      ],
      "execution_count": null,
      "outputs": [
        {
          "output_type": "stream",
          "text": [
            "programação\n"
          ],
          "name": "stdout"
        }
      ]
    },
    {
      "cell_type": "code",
      "metadata": {
        "colab": {
          "base_uri": "https://localhost:8080/"
        },
        "id": "k08PWzxRqJzB",
        "outputId": "e0b21b0a-4f22-49af-995a-ec21606bfa18"
      },
      "source": [
        "s1 = 'Lógica de programação e Algoritmos'\n",
        "print(s1[:6])"
      ],
      "execution_count": null,
      "outputs": [
        {
          "output_type": "stream",
          "text": [
            "Lógica\n"
          ],
          "name": "stdout"
        }
      ]
    },
    {
      "cell_type": "markdown",
      "metadata": {
        "id": "Kg5w1vJ7qkWo"
      },
      "source": [
        "Tamanho (length)"
      ]
    },
    {
      "cell_type": "code",
      "metadata": {
        "colab": {
          "base_uri": "https://localhost:8080/"
        },
        "id": "WAKxGbz1qotp",
        "outputId": "b3054746-7d03-4a3f-b1cc-5e276fc42d23"
      },
      "source": [
        "s1 = 'Lógica de programação e Algoritmos'\n",
        "tamanho = len(s1)\n",
        "print(tamanho)"
      ],
      "execution_count": null,
      "outputs": [
        {
          "output_type": "stream",
          "text": [
            "34\n"
          ],
          "name": "stdout"
        }
      ]
    },
    {
      "cell_type": "markdown",
      "metadata": {
        "id": "wF-NccFtrA0x"
      },
      "source": [
        "5. FUNÇÃO DE ENTRADA E FLUXO DE EXECUÇÃO DO PROGRAMA\n",
        "\n",
        "\n",
        "\n",
        "\n"
      ]
    },
    {
      "cell_type": "markdown",
      "metadata": {
        "id": "1_YypOorrv_y"
      },
      "source": [
        "Função de entrada"
      ]
    },
    {
      "cell_type": "code",
      "metadata": {
        "colab": {
          "base_uri": "https://localhost:8080/"
        },
        "id": "mmnOwbyYrvBc",
        "outputId": "0382baed-f94a-46cd-9f75-b1bb44c3b06b"
      },
      "source": [
        "idade = input('Qual sua idade?')\n",
        "print(idade)"
      ],
      "execution_count": null,
      "outputs": [
        {
          "output_type": "stream",
          "text": [
            "Qual sua idade?20\n",
            "20\n"
          ],
          "name": "stdout"
        }
      ]
    },
    {
      "cell_type": "code",
      "metadata": {
        "colab": {
          "base_uri": "https://localhost:8080/"
        },
        "id": "CHzm66pLsJGy",
        "outputId": "dfe02b65-a4e3-41db-d340-69369d361d15"
      },
      "source": [
        "nome = input('Qual seu nome?')\n",
        "print('Olá {}, seja bem-vindo!'.format(nome))"
      ],
      "execution_count": null,
      "outputs": [
        {
          "output_type": "stream",
          "text": [
            "Qual seu nome?Alisson\n",
            "Olá Alisson, seja bem-vindo!\n"
          ],
          "name": "stdout"
        }
      ]
    },
    {
      "cell_type": "markdown",
      "metadata": {
        "id": "2Ub-kzSGs74a"
      },
      "source": [
        "Convertendo dados de entrada"
      ]
    },
    {
      "cell_type": "code",
      "metadata": {
        "colab": {
          "base_uri": "https://localhost:8080/"
        },
        "id": "Dnbi_-XktB3q",
        "outputId": "3c45edc1-7ed9-4448-fff3-698f368d8f72"
      },
      "source": [
        "nota = float(input('Qual nota você recebeu na disciplina? '))\n",
        "print('Você tirou nota {} .'.format(nota))"
      ],
      "execution_count": null,
      "outputs": [
        {
          "output_type": "stream",
          "text": [
            "Qual nota você recebeu na disciplina? 10\n",
            "Você tirou nota 10.0 .\n"
          ],
          "name": "stdout"
        }
      ]
    },
    {
      "cell_type": "code",
      "metadata": {
        "colab": {
          "base_uri": "https://localhost:8080/"
        },
        "id": "8pbnO2uutc76",
        "outputId": "ddf53d03-b5de-4921-b1ee-f8bf3cde3d3d"
      },
      "source": [
        "nome = input('Qual seu nome? ')\n",
        "nota = float(input('Qual nota voce tirou? '))\n",
        "print('{} voce tirou {} .'.format(nome,nota))"
      ],
      "execution_count": null,
      "outputs": [
        {
          "output_type": "stream",
          "text": [
            "Qual seu nome? Alisson\n",
            "Qual nota voce tirou? 3\n",
            "Alisson voce tirou 3.0 .\n"
          ],
          "name": "stdout"
        }
      ]
    },
    {
      "cell_type": "markdown",
      "metadata": {
        "id": "xox2RLUwuDzL"
      },
      "source": [
        "Exercicio da aula 2:\n",
        "desenvolver um algoritmo que solicite ao usuário números inteiros. Imprima a soma destse dois numeros na tela"
      ]
    },
    {
      "cell_type": "code",
      "metadata": {
        "colab": {
          "base_uri": "https://localhost:8080/"
        },
        "id": "kxEkHHzCuNq6",
        "outputId": "a829fd65-b8c6-44c2-eb28-22d38ec49cba"
      },
      "source": [
        "int1 = int(input('Digite um valor: '))\n",
        "int2 = int(input('Digite outro valor: '))\n",
        "soma = int1 + int2\n",
        "print('A soma de {} mais {} é {}'.format(int1,int2, soma))\n",
        "#outra forma\n",
        "print('a soma de {} mais {} é {}'.format(int1,int2,int1+int2))"
      ],
      "execution_count": null,
      "outputs": [
        {
          "output_type": "stream",
          "text": [
            "Digite um valor: 4\n",
            "Digite outro valor: 5\n",
            "A soma de 4 mais 5 é 9\n",
            "a soma de 4 mais 5 é 9\n"
          ],
          "name": "stdout"
        }
      ]
    }
  ]
}